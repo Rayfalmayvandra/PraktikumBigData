{
 "cells": [
  {
   "cell_type": "code",
   "execution_count": 1,
   "id": "106f9395-207d-4f52-a83a-610a6b107d77",
   "metadata": {},
   "outputs": [
    {
     "name": "stderr",
     "output_type": "stream",
     "text": [
      "WARNING: Using incubator modules: jdk.incubator.vector\n",
      "Using Spark's default log4j profile: org/apache/spark/log4j2-defaults.properties\n",
      "25/09/09 16:34:44 WARN Utils: Your hostname, rayfal, resolves to a loopback address: 127.0.1.1; using 10.0.2.15 instead (on interface enp0s3)\n",
      "25/09/09 16:34:44 WARN Utils: Set SPARK_LOCAL_IP if you need to bind to another address\n",
      "Using Spark's default log4j profile: org/apache/spark/log4j2-defaults.properties\n",
      "Setting default log level to \"WARN\".\n",
      "To adjust logging level use sc.setLogLevel(newLevel). For SparkR, use setLogLevel(newLevel).\n",
      "25/09/09 16:34:48 WARN NativeCodeLoader: Unable to load native-hadoop library for your platform... using builtin-java classes where applicable\n",
      "                                                                                "
     ]
    },
    {
     "name": "stdout",
     "output_type": "stream",
     "text": [
      "+------------+----------+------+\n",
      "|EmployeeName|Department|Salary|\n",
      "+------------+----------+------+\n",
      "|       James|     Sales|  3000|\n",
      "|     Michael|     Sales|  4600|\n",
      "|      Robert|     Sales|  4100|\n",
      "|       Maria|   Finance|  3000|\n",
      "+------------+----------+------+\n",
      "\n"
     ]
    }
   ],
   "source": [
    "# Contoh membuat DataFrame sederhana dan operasi dasar\n",
    "from pyspark.sql import SparkSession\n",
    "spark = SparkSession.builder.appName('HandsOnPertemuan3').getOrCreate()\n",
    "\n",
    "data = [('James', 'Sales', 3000),\n",
    "        ('Michael', 'Sales', 4600),\n",
    "        ('Robert', 'Sales', 4100),\n",
    "        ('Maria', 'Finance', 3000)]\n",
    "columns = ['EmployeeName', 'Department', 'Salary']\n",
    "\n",
    "df = spark.createDataFrame(data, schema=columns)\n",
    "df.show()"
   ]
  },
  {
   "cell_type": "code",
   "execution_count": 10,
   "id": "f76b42c1-7b10-47c1-9406-98eb8d39ee45",
   "metadata": {},
   "outputs": [
    {
     "name": "stdout",
     "output_type": "stream",
     "text": [
      "+------------+------+\n",
      "|EmployeeName|Salary|\n",
      "+------------+------+\n",
      "|       James|  3000|\n",
      "|     Michael|  4600|\n",
      "|      Robert|  4100|\n",
      "|       Maria|  3000|\n",
      "+------------+------+\n",
      "\n",
      "+------------+----------+------+\n",
      "|EmployeeName|Department|Salary|\n",
      "+------------+----------+------+\n",
      "|     Michael|     Sales|  4600|\n",
      "|      Robert|     Sales|  4100|\n",
      "+------------+----------+------+\n",
      "\n"
     ]
    },
    {
     "name": "stderr",
     "output_type": "stream",
     "text": [
      "                                                                                "
     ]
    },
    {
     "name": "stdout",
     "output_type": "stream",
     "text": [
      "+----------+-----------+\n",
      "|Department|avg(Salary)|\n",
      "+----------+-----------+\n",
      "|     Sales|     3900.0|\n",
      "|   Finance|     3000.0|\n",
      "+----------+-----------+\n",
      "\n",
      "+----------+---------+---------+---------+-----------+-----------+\n",
      "|Department|AvgSalary|MaxSalary|MinSalary|TotalSalary|CountSalary|\n",
      "+----------+---------+---------+---------+-----------+-----------+\n",
      "|     Sales|   3900.0|     4600|     3000|      11700|          3|\n",
      "|   Finance|   3000.0|     3000|     3000|       3000|          1|\n",
      "+----------+---------+---------+---------+-----------+-----------+\n",
      "\n"
     ]
    }
   ],
   "source": [
    "# Menampilkan kolom employeename dan salary\n",
    "df.select('EmployeeName', 'Salary').show()\n",
    "# Menampilkan salary yang diatas 3000\n",
    "df.filter(df['Salary'] > 3000).show()\n",
    "# Mengelompokkan data berdasarkan department lalu menghitung rata rata salary tiap department\n",
    "df.groupBy('Department').avg('Salary').show()\n",
    "# Mengelompokkan data berdasarkan department lalu di aggregasi\n",
    "df.groupBy(\"Department\").agg(\n",
    "    # Untuk menghitung rata rata salary tiap department\n",
    "    F.mean(\"Salary\").alias(\"AvgSalary\"),\n",
    "    # Untuk menampilkan salary tertinggi tiap department \n",
    "    F.max(\"Salary\").alias(\"MaxSalary\"),\n",
    "    # Untuk menampilkan salary terendah tiap department\n",
    "    F.min(\"Salary\").alias(\"MinSalary\"),\n",
    "    # Untuk menghitung total salary tiap department\n",
    "    F.sum(\"Salary\").alias(\"TotalSalary\"),\n",
    "    # Untuk menghitung jumlah employeename tiap department\n",
    "    F.count(\"Salary\").alias(\"CountSalary\")).show()"
   ]
  },
  {
   "cell_type": "code",
   "execution_count": 12,
   "id": "64c61074-6807-43b5-8a1d-42f021252608",
   "metadata": {},
   "outputs": [
    {
     "name": "stdout",
     "output_type": "stream",
     "text": [
      "+------------+----------+------+-----------+-----------------+\n",
      "|EmployeeName|Department|Salary|SalaryBonus|TotalCompensation|\n",
      "+------------+----------+------+-----------+-----------------+\n",
      "|       James|     Sales|  3000|      300.0|           3300.0|\n",
      "|     Michael|     Sales|  4600|      460.0|           5060.0|\n",
      "|      Robert|     Sales|  4100|      410.0|           4510.0|\n",
      "|       Maria|   Finance|  3000|      300.0|           3300.0|\n",
      "+------------+----------+------+-----------+-----------------+\n",
      "\n"
     ]
    }
   ],
   "source": [
    "# Kolom SalaryBonus dihitung dari 10% gaji\n",
    "df = df.withColumn(\"SalaryBonus\", df[\"Salary\"] * 0.1)\n",
    "\n",
    "# Kolom TotalCompensation \n",
    "df = df.withColumn(\"TotalCompensation\", df[\"Salary\"] + df[\"SalaryBonus\"])\n",
    "df.show()"
   ]
  },
  {
   "cell_type": "code",
   "execution_count": 13,
   "id": "6d695c59-df11-433b-a8ef-d50a893f5bda",
   "metadata": {},
   "outputs": [
    {
     "name": "stderr",
     "output_type": "stream",
     "text": [
      "[Stage 21:===================>                                      (1 + 2) / 3]"
     ]
    },
    {
     "name": "stdout",
     "output_type": "stream",
     "text": [
      "+------------+----------+------+-----------+-----------------+----+\n",
      "|EmployeeName|Department|Salary|SalaryBonus|TotalCompensation|Rank|\n",
      "+------------+----------+------+-----------+-----------------+----+\n",
      "|       Maria|   Finance|  3000|      300.0|           3300.0|   1|\n",
      "|       James|     Sales|  3000|      300.0|           3300.0|   1|\n",
      "|      Robert|     Sales|  4100|      410.0|           4510.0|   2|\n",
      "|     Michael|     Sales|  4600|      460.0|           5060.0|   3|\n",
      "+------------+----------+------+-----------+-----------------+----+\n",
      "\n"
     ]
    },
    {
     "name": "stderr",
     "output_type": "stream",
     "text": [
      "                                                                                "
     ]
    }
   ],
   "source": [
    "# Penggunaan window functions\n",
    "from pyspark.sql.window import Window\n",
    "from pyspark.sql import functions as F\n",
    "\n",
    "windowSpec = Window.partitionBy('Department').orderBy('Salary')\n",
    "df.withColumn('Rank', F.rank().over(windowSpec)).show()"
   ]
  },
  {
   "cell_type": "code",
   "execution_count": 2,
   "id": "3b633973-7ed8-4e12-b618-2f2f094b4081",
   "metadata": {},
   "outputs": [
    {
     "name": "stdout",
     "output_type": "stream",
     "text": [
      "Data berhasil dimuat:\n",
      "+--------------------+--------------------+----------+-----------+------------------------+------------+-------------------------------+--------------------------------------+\n",
      "|        Manga series|           Author(s)| Publisher|Demographic|No. of collected volumes|  Serialized|Approximate sales in million(s)|Average sales per volume in million(s)|\n",
      "+--------------------+--------------------+----------+-----------+------------------------+------------+-------------------------------+--------------------------------------+\n",
      "|           One Piece|        Eiichiro Oda|  Shueisha|     Shōnen|                     104|1997–present|                          516.6|                                  4.97|\n",
      "|            Golgo 13|Takao Saito, Sait...|Shogakukan|     Seinen|                     207|1968–present|                          300.0|                                  1.45|\n",
      "|Case Closed / Det...|        Gosho Aoyama|Shogakukan|     Shōnen|                     102|1994–present|                          270.0|                                  2.65|\n",
      "|         Dragon Ball|      Akira Toriyama|  Shueisha|     Shōnen|                      42|   1984–1995|                          260.0|                                  6.19|\n",
      "|            Doraemon|     Fujiko F. Fujio|Shogakukan|   Children|                      45|   1969–1996|                          250.0|                                  4.71|\n",
      "+--------------------+--------------------+----------+-----------+------------------------+------------+-------------------------------+--------------------------------------+\n",
      "only showing top 5 rows\n",
      "DataFrame Schema:\n",
      "root\n",
      " |-- Manga series: string (nullable = true)\n",
      " |-- Author(s): string (nullable = true)\n",
      " |-- Publisher: string (nullable = true)\n",
      " |-- Demographic: string (nullable = true)\n",
      " |-- No. of collected volumes: integer (nullable = true)\n",
      " |-- Serialized: string (nullable = true)\n",
      " |-- Approximate sales in million(s): double (nullable = true)\n",
      " |-- Average sales per volume in million(s): double (nullable = true)\n",
      "\n"
     ]
    }
   ],
   "source": [
    "import os\n",
    "from pyspark.sql import SparkSession\n",
    "\n",
    "# Inisialisasi Sesi Spark\n",
    "spark = SparkSession.builder.appName(\"DataLoading\").getOrCreate()\n",
    "\n",
    "# File diupload melalui Home Jupyter Notebook dan disini hanya copy path filenya\n",
    "file_path = \"best-selling-manga.csv\"\n",
    "\n",
    "# Memuat Data\n",
    "try:\n",
    "    df = spark.read.csv(file_path, header=True, inferSchema=True)\n",
    "    \n",
    "    print(\"Data berhasil dimuat:\")\n",
    "    df.show(5)\n",
    "    \n",
    "    print(\"DataFrame Schema:\")\n",
    "    df.printSchema()\n",
    "    \n",
    "except Exception as e:\n",
    "    print(f\"Terjadi kesalahan saat memuat data: {e}\")\n",
    "\n",
    "# Stop Spark Session\n",
    "spark.stop()"
   ]
  },
  {
   "cell_type": "code",
   "execution_count": null,
   "id": "267b4e85-71a0-4376-a903-45c59a0bdbaf",
   "metadata": {},
   "outputs": [],
   "source": []
  }
 ],
 "metadata": {
  "kernelspec": {
   "display_name": "Python 3 (ipykernel)",
   "language": "python",
   "name": "python3"
  },
  "language_info": {
   "codemirror_mode": {
    "name": "ipython",
    "version": 3
   },
   "file_extension": ".py",
   "mimetype": "text/x-python",
   "name": "python",
   "nbconvert_exporter": "python",
   "pygments_lexer": "ipython3",
   "version": "3.13.5"
  }
 },
 "nbformat": 4,
 "nbformat_minor": 5
}
